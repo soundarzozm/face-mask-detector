{
 "cells": [
  {
   "cell_type": "code",
   "execution_count": 1,
   "metadata": {},
   "outputs": [],
   "source": [
    "from tensorflow.keras.applications.inception_v3 import preprocess_input\n",
    "from tensorflow.keras.preprocessing.image import img_to_array\n",
    "from tensorflow.keras.models import load_model\n",
    "import numpy as np\n",
    "import cv2\n",
    "import os"
   ]
  },
  {
   "cell_type": "code",
   "execution_count": 2,
   "metadata": {},
   "outputs": [
    {
     "data": {
      "text/plain": [
       "\"loaded = tf.saved_model.load('modelpb')\\ninfer = loaded.signatures['serving_default']\\n\\nf = tf.function(infer).get_concrete_function(input_1=tf.TensorSpec(shape=[None, 150, 150, 3], dtype=tf.float32))\\nf2 = convert_variables_to_constants_v2(f)\\ngraph_def = f2.graph.as_graph_def()\\n\\n# Export frozen graph\\nwith tf.io.gfile.GFile('frozen_graph.pb', 'wb') as f:\\n   f.write(graph_def.SerializeToString())\""
      ]
     },
     "execution_count": 2,
     "metadata": {},
     "output_type": "execute_result"
    }
   ],
   "source": [
    "import tensorflow as tf\n",
    "\n",
    "from tensorflow.python.framework.convert_to_constants import convert_variables_to_constants_v2\n",
    "\n",
    "\"\"\"loaded = tf.saved_model.load('modelpb')\n",
    "infer = loaded.signatures['serving_default']\n",
    "\n",
    "f = tf.function(infer).get_concrete_function(input_1=tf.TensorSpec(shape=[None, 150, 150, 3], dtype=tf.float32))\n",
    "f2 = convert_variables_to_constants_v2(f)\n",
    "graph_def = f2.graph.as_graph_def()\n",
    "\n",
    "# Export frozen graph\n",
    "with tf.io.gfile.GFile('frozen_graph.pb', 'wb') as f:\n",
    "   f.write(graph_def.SerializeToString())\"\"\""
   ]
  },
  {
   "cell_type": "code",
   "execution_count": 3,
   "metadata": {},
   "outputs": [],
   "source": [
    "prototxtPath = os.path.sep.join([\"/home/soundarzozm/Desktop/mask_detector\", \"deploy.prototxt\"])\n",
    "weightsPath = os.path.sep.join([\"/home/soundarzozm/Desktop/mask_detector\", \"res10_300x300_ssd_iter_140000.caffemodel\"])\n",
    "\n",
    "net = cv2.dnn.readNet(prototxtPath, weightsPath)\n",
    "\n",
    "model = load_model(\"model.h5\")"
   ]
  },
  {
   "cell_type": "code",
   "execution_count": 4,
   "metadata": {},
   "outputs": [],
   "source": [
    "image = cv2.imread(\"try1.jpg\")\n",
    "orig = image.copy()\n",
    "(h, w) = image.shape[:2]\n",
    "\n",
    "blob = cv2.dnn.blobFromImage(image, 1.0, (256, 256), (104.0, 177.0, 123.0))\n",
    "\n",
    "net.setInput(blob)\n",
    "detections = net.forward()"
   ]
  },
  {
   "cell_type": "code",
   "execution_count": 5,
   "metadata": {},
   "outputs": [
    {
     "data": {
      "text/plain": [
       "array([[[[0.        , 1.        , 0.9861102 , ..., 0.6584748 ,\n",
       "          0.3973991 , 0.8417076 ],\n",
       "         [0.        , 1.        , 0.64489466, ..., 0.6347736 ,\n",
       "          0.8550958 , 0.78778493],\n",
       "         [0.        , 1.        , 0.31283584, ..., 0.5941841 ,\n",
       "          0.6268668 , 0.73568445],\n",
       "         ...,\n",
       "         [0.        , 1.        , 0.11990744, ..., 0.49326447,\n",
       "          0.7980148 , 0.54044634],\n",
       "         [0.        , 1.        , 0.11978975, ..., 0.42748797,\n",
       "          0.272643  , 0.4832241 ],\n",
       "         [0.        , 1.        , 0.11978081, ..., 0.31856924,\n",
       "          0.20144944, 0.3792904 ]]]], dtype=float32)"
      ]
     },
     "execution_count": 5,
     "metadata": {},
     "output_type": "execute_result"
    }
   ],
   "source": [
    "detections"
   ]
  },
  {
   "cell_type": "code",
   "execution_count": 6,
   "metadata": {},
   "outputs": [
    {
     "data": {
      "text/plain": [
       "113"
      ]
     },
     "execution_count": 6,
     "metadata": {},
     "output_type": "execute_result"
    }
   ],
   "source": [
    "for i in range(0, detections.shape[2]):\n",
    "\n",
    "    confidence = detections[0, 0, i, 2]\n",
    "\n",
    "    if confidence > 0.3:\n",
    "\n",
    "        box = detections[0, 0, i, 3:7] * np.array([w, h, w, h])\n",
    "        (startX, startY, endX, endY) = box.astype(\"int\")\n",
    "\n",
    "\n",
    "        (startX, startY) = (max(0, startX), max(0, startY))\n",
    "        (endX, endY) = (min(w - 1, endX), min(h - 1, endY))\n",
    "        \n",
    "        face = image[startY:endY, startX:endX]\n",
    "        face = cv2.cvtColor(face, cv2.COLOR_BGR2RGB)\n",
    "        face = cv2.resize(face, (256, 256))\n",
    "        face = img_to_array(face)\n",
    "        face = preprocess_input(face)\n",
    "        face = np.expand_dims(face, axis=0)\n",
    "\n",
    "\n",
    "        mask = model.predict(face)[0][0]\n",
    "        no_mask = 1 - mask\n",
    "        \n",
    "\n",
    "        label = \"Mask\" if mask < no_mask else \"No Mask\"\n",
    "        color = (0, 255, 0) if label == \"Mask\" else (0, 0, 255)\n",
    "\n",
    "        label = \"{}: {:.2f}%\".format(label, max(mask, no_mask) * 100)\n",
    "\n",
    "        cv2.putText(image, label, (startX, startY - 10), cv2.FONT_HERSHEY_SIMPLEX, 0.45, color, 2)\n",
    "        cv2.rectangle(image, (startX, startY), (endX, endY), color, 2)\n",
    "\n",
    "cv2.imshow(\"Output\", image)\n",
    "cv2.imwrite(\"try1mod.jpg\", image)\n",
    "cv2.waitKey(0)\n",
    "cv2.destroyAllWindows()"
   ]
  }
 ],
 "metadata": {
  "kernelspec": {
   "display_name": "Python 3",
   "language": "python",
   "name": "python3"
  },
  "language_info": {
   "codemirror_mode": {
    "name": "ipython",
    "version": 3
   },
   "file_extension": ".py",
   "mimetype": "text/x-python",
   "name": "python",
   "nbconvert_exporter": "python",
   "pygments_lexer": "ipython3",
   "version": "3.8.3"
  }
 },
 "nbformat": 4,
 "nbformat_minor": 4
}
